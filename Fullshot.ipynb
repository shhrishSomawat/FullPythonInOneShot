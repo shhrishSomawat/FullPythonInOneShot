{
 "cells": [
  {
   "cell_type": "code",
   "execution_count": 1,
   "id": "6a8227c2",
   "metadata": {},
   "outputs": [
    {
     "name": "stdout",
     "output_type": "stream",
     "text": [
      "Hello World\n"
     ]
    }
   ],
   "source": [
    "print(\"Hello World\")"
   ]
  },
  {
   "cell_type": "code",
   "execution_count": 2,
   "id": "35180390",
   "metadata": {},
   "outputs": [
    {
     "name": "stdout",
     "output_type": "stream",
     "text": [
      "Hello Shrish\n"
     ]
    }
   ],
   "source": [
    "print(\"Hello Shrish\")"
   ]
  },
  {
   "cell_type": "code",
   "execution_count": 3,
   "id": "e977db02",
   "metadata": {},
   "outputs": [
    {
     "name": "stdout",
     "output_type": "stream",
     "text": [
      "IloveYou123456\n"
     ]
    }
   ],
   "source": [
    "print(\"IloveYou123456\")"
   ]
  },
  {
   "cell_type": "code",
   "execution_count": 4,
   "id": "90f51bca",
   "metadata": {},
   "outputs": [
    {
     "name": "stdout",
     "output_type": "stream",
     "text": [
      "Deepikaji\n"
     ]
    }
   ],
   "source": [
    "print(\"Deepikaji\")"
   ]
  },
  {
   "cell_type": "code",
   "execution_count": 5,
   "id": "94a35916",
   "metadata": {},
   "outputs": [
    {
     "name": "stdout",
     "output_type": "stream",
     "text": [
      "why betraying me?\n"
     ]
    }
   ],
   "source": [
    "print(\"why betraying me?\")"
   ]
  },
  {
   "cell_type": "code",
   "execution_count": 6,
   "id": "52fad60d",
   "metadata": {},
   "outputs": [
    {
     "name": "stdout",
     "output_type": "stream",
     "text": [
      "shrish\n",
      "21\n"
     ]
    }
   ],
   "source": [
    "name = \"shrish\"\n",
    "age = 21\n",
    "print(name)\n",
    "print(age)"
   ]
  },
  {
   "cell_type": "code",
   "execution_count": 7,
   "id": "ce139cc3",
   "metadata": {},
   "outputs": [
    {
     "name": "stdout",
     "output_type": "stream",
     "text": [
      "Deepika\n",
      "22\n"
     ]
    }
   ],
   "source": [
    "name = \"Deepika\"\n",
    "age = 22\n",
    "print(name)\n",
    "print(age)"
   ]
  },
  {
   "cell_type": "code",
   "execution_count": 8,
   "id": "351ba3ef",
   "metadata": {},
   "outputs": [
    {
     "name": "stdout",
     "output_type": "stream",
     "text": [
      "who is shrish's girlfriend?deepika\n"
     ]
    },
    {
     "data": {
      "text/plain": [
       "'deepika'"
      ]
     },
     "execution_count": 8,
     "metadata": {},
     "output_type": "execute_result"
    }
   ],
   "source": [
    "input(\"who is shrish's girlfriend?\")"
   ]
  },
  {
   "cell_type": "code",
   "execution_count": 9,
   "id": "0c2d11fd",
   "metadata": {},
   "outputs": [
    {
     "name": "stdout",
     "output_type": "stream",
     "text": [
      "who is shrish's girlfriend?deepika\n",
      "deepika\n"
     ]
    }
   ],
   "source": [
    "gf_name = input(\"who is shrish's girlfriend?\")\n",
    "print(gf_name)"
   ]
  },
  {
   "cell_type": "code",
   "execution_count": 10,
   "id": "c02bdcda",
   "metadata": {},
   "outputs": [
    {
     "name": "stdout",
     "output_type": "stream",
     "text": [
      "enter the name of shrish favourite hero in bollywood?shah rukh khan\n",
      "the favourite hero according to shrish is shah rukh khan\n"
     ]
    }
   ],
   "source": [
    "name = input(\"enter the name of shrish favourite hero in bollywood?\")\n",
    "print(\"the favourite hero according to shrish is \"+name)"
   ]
  },
  {
   "cell_type": "code",
   "execution_count": 11,
   "id": "081b4fc5",
   "metadata": {},
   "outputs": [],
   "source": [
    "# cia_1 = input(\"enter the marks of cia_1 of shrish?\")\n",
    "# cia_2 = cia_1+20 #because cia_2 is assignment so everyone get 20 marks now just add both cia's marks for the total of cia put of 40\n",
    "# print(cia_2)        \n",
    "\n",
    "\n",
    "\n",
    "\n",
    "\n",
    "#this is giving error because in cia_1 we are storing string values not integer values so fot storing integer value as a input we use typeconversion"
   ]
  },
  {
   "cell_type": "code",
   "execution_count": 12,
   "id": "a484c885",
   "metadata": {},
   "outputs": [
    {
     "name": "stdout",
     "output_type": "stream",
     "text": [
      "enter the marks of cia_1 of shrish?13\n",
      "33\n"
     ]
    }
   ],
   "source": [
    "cia_1 = int(input(\"enter the marks of cia_1 of shrish?\"))\n",
    "cia_2 = cia_1+20 #because cia_2 is assignment so everyone get 20 marks now just add both cia's marks for the total of cia put of 40\n",
    "print(cia_2)    \n",
    "\n",
    "\n",
    "#here we are using int keyword before taking a input so that the input which will we get is now in the input form"
   ]
  },
  {
   "cell_type": "markdown",
   "id": "2d007f1d",
   "metadata": {},
   "source": [
    "# STRINGS\n"
   ]
  },
  {
   "cell_type": "code",
   "execution_count": 13,
   "id": "4a919983",
   "metadata": {},
   "outputs": [
    {
     "data": {
      "text/plain": [
       "'SHRISH SONAL'"
      ]
     },
     "execution_count": 13,
     "metadata": {},
     "output_type": "execute_result"
    }
   ],
   "source": [
    "name = \"shrish sonal\"\n",
    "name.upper()"
   ]
  },
  {
   "cell_type": "code",
   "execution_count": 14,
   "id": "eb07df10",
   "metadata": {},
   "outputs": [
    {
     "data": {
      "text/plain": [
       "'shrish sonal'"
      ]
     },
     "execution_count": 14,
     "metadata": {},
     "output_type": "execute_result"
    }
   ],
   "source": [
    "name.lower()"
   ]
  },
  {
   "cell_type": "code",
   "execution_count": 15,
   "id": "f5e90288",
   "metadata": {},
   "outputs": [
    {
     "data": {
      "text/plain": [
       "7"
      ]
     },
     "execution_count": 15,
     "metadata": {},
     "output_type": "execute_result"
    }
   ],
   "source": [
    "name.find(\"sonal\")"
   ]
  },
  {
   "cell_type": "code",
   "execution_count": 16,
   "id": "c01b6055",
   "metadata": {},
   "outputs": [
    {
     "data": {
      "text/plain": [
       "'hey sonal'"
      ]
     },
     "execution_count": 16,
     "metadata": {},
     "output_type": "execute_result"
    }
   ],
   "source": [
    "name.replace(\"shrish\",\"hey\")"
   ]
  },
  {
   "cell_type": "code",
   "execution_count": 17,
   "id": "5b1429c0",
   "metadata": {},
   "outputs": [
    {
     "name": "stdout",
     "output_type": "stream",
     "text": [
      "True\n"
     ]
    }
   ],
   "source": [
    "print(\"sonal\" in name)"
   ]
  },
  {
   "cell_type": "code",
   "execution_count": 18,
   "id": "1c214b64",
   "metadata": {},
   "outputs": [
    {
     "name": "stdout",
     "output_type": "stream",
     "text": [
      "False\n"
     ]
    }
   ],
   "source": [
    "print(\"deep\" in  name)"
   ]
  },
  {
   "cell_type": "code",
   "execution_count": 19,
   "id": "4d82d519",
   "metadata": {},
   "outputs": [
    {
     "name": "stdout",
     "output_type": "stream",
     "text": [
      "False\n"
     ]
    }
   ],
   "source": [
    "print(\"hey\" in name)"
   ]
  },
  {
   "cell_type": "markdown",
   "id": "81763564",
   "metadata": {},
   "source": [
    "# ARITHMETIC OPERATIONS"
   ]
  },
  {
   "cell_type": "code",
   "execution_count": 20,
   "id": "7054acea",
   "metadata": {},
   "outputs": [
    {
     "name": "stdout",
     "output_type": "stream",
     "text": [
      "7\n"
     ]
    }
   ],
   "source": [
    "print(5+2)"
   ]
  },
  {
   "cell_type": "code",
   "execution_count": 21,
   "id": "b9fcdbd9",
   "metadata": {},
   "outputs": [
    {
     "name": "stdout",
     "output_type": "stream",
     "text": [
      "3\n"
     ]
    }
   ],
   "source": [
    "print(5-2)"
   ]
  },
  {
   "cell_type": "code",
   "execution_count": 22,
   "id": "8d9b3ef1",
   "metadata": {},
   "outputs": [
    {
     "name": "stdout",
     "output_type": "stream",
     "text": [
      "10\n"
     ]
    }
   ],
   "source": [
    "print(5*2)"
   ]
  },
  {
   "cell_type": "code",
   "execution_count": 23,
   "id": "e250f1e8",
   "metadata": {},
   "outputs": [
    {
     "name": "stdout",
     "output_type": "stream",
     "text": [
      "25\n"
     ]
    }
   ],
   "source": [
    "print(5**2) #Square "
   ]
  },
  {
   "cell_type": "code",
   "execution_count": 24,
   "id": "ed8d9855",
   "metadata": {},
   "outputs": [
    {
     "name": "stdout",
     "output_type": "stream",
     "text": [
      "2.5\n"
     ]
    }
   ],
   "source": [
    " print(5/2)"
   ]
  },
  {
   "cell_type": "code",
   "execution_count": 25,
   "id": "067fa7c4",
   "metadata": {},
   "outputs": [
    {
     "name": "stdout",
     "output_type": "stream",
     "text": [
      "2\n"
     ]
    }
   ],
   "source": [
    "print(5//2) #in integer form"
   ]
  },
  {
   "cell_type": "markdown",
   "id": "fde8ba06",
   "metadata": {},
   "source": [
    "# COMPARISION OPERATIONS"
   ]
  },
  {
   "cell_type": "code",
   "execution_count": 26,
   "id": "22d0f7ab",
   "metadata": {},
   "outputs": [
    {
     "name": "stdout",
     "output_type": "stream",
     "text": [
      "False\n"
     ]
    }
   ],
   "source": [
    "print(2>3)"
   ]
  },
  {
   "cell_type": "code",
   "execution_count": 27,
   "id": "63ef0af9",
   "metadata": {},
   "outputs": [
    {
     "name": "stdout",
     "output_type": "stream",
     "text": [
      "True\n"
     ]
    }
   ],
   "source": [
    "print(3>2)"
   ]
  },
  {
   "cell_type": "code",
   "execution_count": 28,
   "id": "6dc6fd48",
   "metadata": {},
   "outputs": [
    {
     "name": "stdout",
     "output_type": "stream",
     "text": [
      "False\n"
     ]
    }
   ],
   "source": [
    "print(3<=2)"
   ]
  },
  {
   "cell_type": "code",
   "execution_count": 29,
   "id": "2efcaef8",
   "metadata": {},
   "outputs": [
    {
     "name": "stdout",
     "output_type": "stream",
     "text": [
      "True\n"
     ]
    }
   ],
   "source": [
    "print(2<=3)"
   ]
  },
  {
   "cell_type": "code",
   "execution_count": 30,
   "id": "d374b3ed",
   "metadata": {},
   "outputs": [
    {
     "name": "stdout",
     "output_type": "stream",
     "text": [
      "True\n"
     ]
    }
   ],
   "source": [
    "print(3==3)"
   ]
  },
  {
   "cell_type": "code",
   "execution_count": 31,
   "id": "8e131058",
   "metadata": {},
   "outputs": [
    {
     "name": "stdout",
     "output_type": "stream",
     "text": [
      "False\n"
     ]
    }
   ],
   "source": [
    "print(2==3)"
   ]
  },
  {
   "cell_type": "code",
   "execution_count": 32,
   "id": "dbf266dc",
   "metadata": {},
   "outputs": [
    {
     "name": "stdout",
     "output_type": "stream",
     "text": [
      "True\n"
     ]
    }
   ],
   "source": [
    "print(3!=2)"
   ]
  },
  {
   "cell_type": "code",
   "execution_count": 33,
   "id": "2770e316",
   "metadata": {},
   "outputs": [
    {
     "name": "stdout",
     "output_type": "stream",
     "text": [
      "False\n"
     ]
    }
   ],
   "source": [
    "print(2!=2)"
   ]
  },
  {
   "cell_type": "code",
   "execution_count": 34,
   "id": "18d1a708",
   "metadata": {},
   "outputs": [],
   "source": [
    "#this is a comment"
   ]
  },
  {
   "cell_type": "markdown",
   "id": "b3977e96",
   "metadata": {},
   "source": [
    "# LOGICAL OPERATOR"
   ]
  },
  {
   "cell_type": "code",
   "execution_count": 35,
   "id": "97eef9b6",
   "metadata": {},
   "outputs": [
    {
     "name": "stdout",
     "output_type": "stream",
     "text": [
      "True\n"
     ]
    }
   ],
   "source": [
    "#OR OPERATOR\n",
    "print(2>3 or 3>2)\n"
   ]
  },
  {
   "cell_type": "code",
   "execution_count": 36,
   "id": "69770995",
   "metadata": {},
   "outputs": [
    {
     "name": "stdout",
     "output_type": "stream",
     "text": [
      "False\n"
     ]
    }
   ],
   "source": [
    "print(3<2 or 4>5)"
   ]
  },
  {
   "cell_type": "code",
   "execution_count": 37,
   "id": "b05918ff",
   "metadata": {},
   "outputs": [
    {
     "name": "stdout",
     "output_type": "stream",
     "text": [
      "True\n"
     ]
    }
   ],
   "source": [
    "print(3>2 or 2>1)"
   ]
  },
  {
   "cell_type": "code",
   "execution_count": 38,
   "id": "8e8c4a7d",
   "metadata": {},
   "outputs": [
    {
     "name": "stdout",
     "output_type": "stream",
     "text": [
      "False\n"
     ]
    }
   ],
   "source": [
    "#and operator\n",
    "print(3>2 and 4<3)"
   ]
  },
  {
   "cell_type": "code",
   "execution_count": 39,
   "id": "dd1e3fe7",
   "metadata": {},
   "outputs": [
    {
     "name": "stdout",
     "output_type": "stream",
     "text": [
      "False\n"
     ]
    }
   ],
   "source": [
    "print(3>4 and 4>5)"
   ]
  },
  {
   "cell_type": "code",
   "execution_count": 40,
   "id": "ac7460f0",
   "metadata": {},
   "outputs": [
    {
     "name": "stdout",
     "output_type": "stream",
     "text": [
      "True\n"
     ]
    }
   ],
   "source": [
    "print(3>2 and 4>3)"
   ]
  },
  {
   "cell_type": "code",
   "execution_count": 41,
   "id": "f5f0f955",
   "metadata": {},
   "outputs": [
    {
     "name": "stdout",
     "output_type": "stream",
     "text": [
      "False\n"
     ]
    }
   ],
   "source": [
    "#not operator\n",
    "print(not 3>2)"
   ]
  },
  {
   "cell_type": "markdown",
   "id": "c58e285e",
   "metadata": {},
   "source": [
    "# CONDITIONAL STATEMENTS(IF-ELSE)"
   ]
  },
  {
   "cell_type": "code",
   "execution_count": 42,
   "id": "350c792c",
   "metadata": {},
   "outputs": [
    {
     "name": "stdout",
     "output_type": "stream",
     "text": [
      "enter your age19\n",
      "vote kar sake bhai tu\n"
     ]
    }
   ],
   "source": [
    "age = int(input(\"enter your age\"))\n",
    "if age>=18:\n",
    "    print(\"vote kar sake bhai tu\")\n",
    "elif age<18 and age>=3:\n",
    "    print(\"baalak h ke\")\n",
    "else:print(\"abe dudh pee or soja\")"
   ]
  },
  {
   "cell_type": "code",
   "execution_count": 44,
   "id": "1292b628",
   "metadata": {},
   "outputs": [
    {
     "name": "stdout",
     "output_type": "stream",
     "text": [
      "*************This is calculator made by SHRISH SOMAWAT***************\n",
      "you have some options here please enter the serial number among these:\n",
      "1.Addition\n",
      "2.Subtraction\n",
      "3.Multiplication\n",
      "4.Divide\n",
      "5.Remainder\n",
      "6.Power\n",
      "please enter the choice (1-6)9\n",
      "please enter the right choice and we will provide our best output\n"
     ]
    }
   ],
   "source": [
    "print(\"*************This is calculator made by SHRISH SOMAWAT***************\")\n",
    "print(\"you have some options here please enter the serial number among these:\")\n",
    "print(\"1.Addition\")\n",
    "print(\"2.Subtraction\")\n",
    "print(\"3.Multiplication\")\n",
    "print(\"4.Divide\")\n",
    "print(\"5.Remainder\")\n",
    "print(\"6.Power\")\n",
    "choice = int(input(\"please enter the choice (1-6)\"))\n",
    "if choice == 1:\n",
    "    num1 = int(input(\"enter number 1 \"))\n",
    "    num2 = int(input(\"enter number 2 \"))\n",
    "    sum = num1+num2\n",
    "    print(\"the addition of the number is: \",sum)\n",
    "elif choice == 2:\n",
    "    num1 = int(input(\"enter number 1 \"))\n",
    "    num2 = int(input(\"enter number 2 \"))\n",
    "    sub = num1-num2\n",
    "    print(\"the subtraction of the number is: \",sub)\n",
    "elif choice == 3:\n",
    "    num1 = int(input(\"enter number 1 \"))\n",
    "    num2 = int(input(\"enter number 2 \"))\n",
    "    mul = num1*num2\n",
    "    print(\"the Multiplication of the number is: \",mul)\n",
    "elif choice == 4:\n",
    "    num1 = int(input(\"enter number 1 \"))\n",
    "    num2 = int(input(\"enter number 2 \"))\n",
    "    div = num1/num2\n",
    "    print(\"the division of the number is: \",div)\n",
    "elif choice == 5:\n",
    "    num1 = int(input(\"enter number 1 \"))\n",
    "    num2 = int(input(\"enter number 2 \"))\n",
    "    rem = num1%num2\n",
    "    print(\"the remainder of the number is: \",rem)\n",
    "elif choice == 6:\n",
    "    num1 = int(input(\"enter number 1 \"))\n",
    "    num2 = int(input(\"enter number 2 \"))\n",
    "    pow = num1**num2\n",
    "    print(\"the result is: \",pow)\n",
    "else:\n",
    "    print(\"please enter the right choice and we will provide our best output\")\n",
    "    \n",
    "    \n",
    "\n",
    "    \n",
    "\n",
    "    \n",
    "    "
   ]
  },
  {
   "cell_type": "markdown",
   "id": "80a0287c",
   "metadata": {},
   "source": [
    "# LOOPS\n",
    "##WHILE LOOPS"
   ]
  },
  {
   "cell_type": "code",
   "execution_count": 48,
   "id": "11b879cd",
   "metadata": {},
   "outputs": [
    {
     "name": "stdout",
     "output_type": "stream",
     "text": [
      "2\n",
      "4\n",
      "6\n",
      "8\n",
      "10\n"
     ]
    }
   ],
   "source": [
    "i = 2\n",
    "while i<=10:\n",
    "    print(i)\n",
    "    i+=2"
   ]
  },
  {
   "cell_type": "markdown",
   "id": "3a0360aa",
   "metadata": {},
   "source": [
    "##for loops\n"
   ]
  },
  {
   "cell_type": "code",
   "execution_count": 55,
   "id": "6646b0ae",
   "metadata": {},
   "outputs": [
    {
     "name": "stdout",
     "output_type": "stream",
     "text": [
      "0\n",
      "1\n",
      "2\n",
      "3\n",
      "4\n",
      "5\n",
      "6\n",
      "7\n",
      "8\n",
      "9\n"
     ]
    }
   ],
   "source": [
    "for i in range(10):\n",
    "    print(i)"
   ]
  },
  {
   "cell_type": "markdown",
   "id": "77f0bafa",
   "metadata": {},
   "source": [
    " "
   ]
  },
  {
   "cell_type": "markdown",
   "id": "ddf3cfc6",
   "metadata": {},
   "source": [
    "# list"
   ]
  },
  {
   "cell_type": "code",
   "execution_count": 59,
   "id": "49356ffe",
   "metadata": {},
   "outputs": [
    {
     "name": "stdout",
     "output_type": "stream",
     "text": [
      "[34, 12, 45, 49, 24, 'hey', 'shrish', 'here']\n"
     ]
    }
   ],
   "source": [
    "marks = [34,12,45,49,24,\"hey\",\"shrish\",\"here\"]  #this is list\n",
    "print(marks)"
   ]
  },
  {
   "cell_type": "code",
   "execution_count": 60,
   "id": "6ec6dd70",
   "metadata": {},
   "outputs": [
    {
     "name": "stdout",
     "output_type": "stream",
     "text": [
      "24\n"
     ]
    }
   ],
   "source": [
    "print(marks[4])"
   ]
  },
  {
   "cell_type": "code",
   "execution_count": 61,
   "id": "c7e9eebf",
   "metadata": {},
   "outputs": [
    {
     "name": "stdout",
     "output_type": "stream",
     "text": [
      "hey\n"
     ]
    }
   ],
   "source": [
    "print(marks[-3])"
   ]
  },
  {
   "cell_type": "code",
   "execution_count": 62,
   "id": "69880fe9",
   "metadata": {},
   "outputs": [
    {
     "name": "stdout",
     "output_type": "stream",
     "text": [
      "34\n"
     ]
    }
   ],
   "source": [
    "print(marks[0])"
   ]
  },
  {
   "cell_type": "code",
   "execution_count": 63,
   "id": "f3a65fda",
   "metadata": {},
   "outputs": [
    {
     "name": "stdout",
     "output_type": "stream",
     "text": [
      "[45, 49, 24, 'hey', 'shrish']\n"
     ]
    }
   ],
   "source": [
    "print(marks[2:7])"
   ]
  },
  {
   "cell_type": "code",
   "execution_count": 64,
   "id": "9d858256",
   "metadata": {},
   "outputs": [
    {
     "name": "stdout",
     "output_type": "stream",
     "text": [
      "34\n",
      "12\n",
      "45\n",
      "49\n",
      "24\n",
      "hey\n",
      "shrish\n",
      "here\n"
     ]
    }
   ],
   "source": [
    "for score in marks:\n",
    "    print(score)"
   ]
  },
  {
   "cell_type": "code",
   "execution_count": 71,
   "id": "09a4d248",
   "metadata": {},
   "outputs": [
    {
     "data": {
      "text/plain": [
       "[34, 12, 45, 49, 24, 'hey', 'shrish', 'here', 22, 22, 22, 22, 122, 6]"
      ]
     },
     "execution_count": 71,
     "metadata": {},
     "output_type": "execute_result"
    }
   ],
   "source": [
    "marks.append(6)\n",
    "marks"
   ]
  },
  {
   "cell_type": "code",
   "execution_count": 73,
   "id": "dace3a9e",
   "metadata": {},
   "outputs": [
    {
     "data": {
      "text/plain": [
       "[0, 0, 34, 12, 45, 49, 24, 'hey', 'shrish', 'here', 22, 22, 22, 22, 122, 6]"
      ]
     },
     "execution_count": 73,
     "metadata": {},
     "output_type": "execute_result"
    }
   ],
   "source": [
    "marks.insert(0,0)\n",
    "marks"
   ]
  },
  {
   "cell_type": "code",
   "execution_count": 74,
   "id": "4403208a",
   "metadata": {},
   "outputs": [
    {
     "name": "stdout",
     "output_type": "stream",
     "text": [
      "True\n"
     ]
    }
   ],
   "source": [
    "print(0 in marks)"
   ]
  },
  {
   "cell_type": "code",
   "execution_count": 75,
   "id": "838c59e3",
   "metadata": {},
   "outputs": [
    {
     "name": "stdout",
     "output_type": "stream",
     "text": [
      "False\n"
     ]
    }
   ],
   "source": [
    "print(1 in marks)"
   ]
  },
  {
   "cell_type": "code",
   "execution_count": 77,
   "id": "c888f4cd",
   "metadata": {},
   "outputs": [
    {
     "name": "stdout",
     "output_type": "stream",
     "text": [
      "16\n"
     ]
    }
   ],
   "source": [
    "print(len(marks))"
   ]
  },
  {
   "cell_type": "markdown",
   "id": "1c5bbae8",
   "metadata": {},
   "source": [
    "# break and continue statements\n"
   ]
  },
  {
   "cell_type": "code",
   "execution_count": 79,
   "id": "d6e7c9ab",
   "metadata": {},
   "outputs": [
    {
     "name": "stdout",
     "output_type": "stream",
     "text": [
      "shrish\n",
      "sonal\n",
      "hem\n"
     ]
    }
   ],
   "source": [
    "persons = [\"shrish\",\"sonal\",\"hem\",\"shiva\",\"gona\",\"shalu\"]\n",
    "for person in persons:\n",
    "    if person == \"shiva\":\n",
    "        break\n",
    "    print(person)"
   ]
  },
  {
   "cell_type": "code",
   "execution_count": 80,
   "id": "9c23d845",
   "metadata": {},
   "outputs": [
    {
     "name": "stdout",
     "output_type": "stream",
     "text": [
      "shrish\n",
      "sonal\n",
      "shiva\n",
      "gona\n",
      "shalu\n"
     ]
    }
   ],
   "source": [
    "persons = [\"shrish\",\"sonal\",\"hem\",\"shiva\",\"gona\",\"shalu\"]\n",
    "for person in persons:\n",
    "    if person == \"hem\":\n",
    "        continue\n",
    "    print(person)"
   ]
  },
  {
   "cell_type": "markdown",
   "id": "d97355af",
   "metadata": {},
   "source": [
    "# Tuple"
   ]
  },
  {
   "cell_type": "code",
   "execution_count": 81,
   "id": "f5e963c4",
   "metadata": {},
   "outputs": [
    {
     "data": {
      "text/plain": [
       "3"
      ]
     },
     "execution_count": 81,
     "metadata": {},
     "output_type": "execute_result"
    }
   ],
   "source": [
    "persons = (\"shrish\",\"shiva\",\"shiva\",\"shiva\",\"gona\",\"shalu\") #we cant modify this is immutable\n",
    "persons.count(\"shiva\")"
   ]
  },
  {
   "cell_type": "code",
   "execution_count": 82,
   "id": "71bfe52c",
   "metadata": {},
   "outputs": [
    {
     "data": {
      "text/plain": [
       "5"
      ]
     },
     "execution_count": 82,
     "metadata": {},
     "output_type": "execute_result"
    }
   ],
   "source": [
    "persons.index(\"shalu\")"
   ]
  },
  {
   "cell_type": "markdown",
   "id": "c467bf17",
   "metadata": {},
   "source": [
    "# Set"
   ]
  },
  {
   "cell_type": "code",
   "execution_count": 83,
   "id": "e7195fbf",
   "metadata": {},
   "outputs": [
    {
     "name": "stdout",
     "output_type": "stream",
     "text": [
      "{'shalu', 'shiva', 'shrish', 'gona'}\n"
     ]
    }
   ],
   "source": [
    "persons = {\"shrish\",\"shiva\",\"shiva\",\"shiva\",\"gona\",\"shalu\"}\n",
    "#we cant find person name with index because indexing is not allowed in set and it will not show multiple present item repeatedly\n",
    "print(persons)"
   ]
  },
  {
   "cell_type": "markdown",
   "id": "cbbb1f87",
   "metadata": {},
   "source": [
    "# Dictionary"
   ]
  },
  {
   "cell_type": "code",
   "execution_count": 84,
   "id": "f1a288fb",
   "metadata": {},
   "outputs": [
    {
     "name": "stdout",
     "output_type": "stream",
     "text": [
      "100\n"
     ]
    }
   ],
   "source": [
    "#pairs\n",
    "percentage = {\"shrish\":99,\"shiva\":78,\"shalu\":100,\"sonal\":89,\"hem\":99}\n",
    "print(percentage[\"shalu\"])"
   ]
  },
  {
   "cell_type": "code",
   "execution_count": 85,
   "id": "4124ad51",
   "metadata": {},
   "outputs": [
    {
     "name": "stdout",
     "output_type": "stream",
     "text": [
      "{'shrish': 99, 'shiva': 78, 'shalu': 100, 'sonal': 89, 'hem': 99, 'ut': 76}\n"
     ]
    }
   ],
   "source": [
    "percentage[\"ut\"] = 76\n",
    "print(percentage)"
   ]
  },
  {
   "cell_type": "markdown",
   "id": "d3b8049d",
   "metadata": {},
   "source": [
    "# Functions"
   ]
  },
  {
   "cell_type": "code",
   "execution_count": 86,
   "id": "7f2de925",
   "metadata": {},
   "outputs": [],
   "source": [
    "# 1.inbuilt\n",
    "# 2.userdefined\n",
    "# 3.module\n"
   ]
  },
  {
   "cell_type": "code",
   "execution_count": 89,
   "id": "21d906bd",
   "metadata": {},
   "outputs": [
    {
     "name": "stdout",
     "output_type": "stream",
     "text": [
      "2.0\n"
     ]
    }
   ],
   "source": [
    "from math import sqrt\n",
    "print(sqrt(4))"
   ]
  },
  {
   "cell_type": "code",
   "execution_count": 93,
   "id": "5afcfa65",
   "metadata": {},
   "outputs": [
    {
     "name": "stdout",
     "output_type": "stream",
     "text": [
      "110\n"
     ]
    }
   ],
   "source": [
    "def printSum(num1,num2,num3):\n",
    "    print(num1+num2+num3)\n",
    "printSum(3,8,99)"
   ]
  },
  {
   "cell_type": "code",
   "execution_count": null,
   "id": "ebdca6eb",
   "metadata": {},
   "outputs": [],
   "source": []
  }
 ],
 "metadata": {
  "kernelspec": {
   "display_name": "Python 3 (ipykernel)",
   "language": "python",
   "name": "python3"
  },
  "language_info": {
   "codemirror_mode": {
    "name": "ipython",
    "version": 3
   },
   "file_extension": ".py",
   "mimetype": "text/x-python",
   "name": "python",
   "nbconvert_exporter": "python",
   "pygments_lexer": "ipython3",
   "version": "3.9.13"
  }
 },
 "nbformat": 4,
 "nbformat_minor": 5
}
